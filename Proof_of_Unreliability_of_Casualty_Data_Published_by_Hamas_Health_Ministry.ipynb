In order to reach best storytelling, I used "plotly" library. This library is not supported in Github. Please check my Google Colab file directly:
https://colab.research.google.com/drive/1Bbk-mR0h16KCThgAw1rT2X6W5RfNhOke?usp=sharing
